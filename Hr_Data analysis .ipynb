{
 "cells": [
  {
   "cell_type": "markdown",
   "id": "3824acc5",
   "metadata": {},
   "source": [
    "# Analysing Employee Performance for Hr Analytics Using Python and MySQL\n"
   ]
  },
  {
   "cell_type": "markdown",
   "id": "875e035b",
   "metadata": {},
   "source": [
    "## About the project:\n",
    "You will be using a real-world dataset of the Employees records to complete this project. This project intends to evaluate the provided dataset, solving business problems on this dataset and mining information insights. \n",
    "\n",
    "## Project Description\n",
    "This project will train you how to use SQL to analyze a real-world database, how to extract the most useful information from the dataset, how to pre-process the data using Python for improved performance, and how to use a structured query language to retrieve useful information from the database."
   ]
  },
  {
   "cell_type": "markdown",
   "id": "cdc0c7ab",
   "metadata": {},
   "source": [
    "\n",
    "## Module1: Data Pre-processing\n",
    "In this task you will be working on handling null values, deletion or transformation of irrelevant values, data type transformation, removing duplicates and data validations. Once you have completed this task, you will get a refined and cleaner data set for further analysis.\n",
    "\n",
    "### Steps to perform Data Pre-processing:\n",
    "\n",
    "- **Step 1**: Removing duplicate rows.\n",
    "- **Step 2**: Removing rows for which numeric columns are having irrelevant data type values\n",
    "- **Step 3**: Remove irrelevant values from each column if any. Validation all values for a column, Check for any inconsistencies or discrepancies in data types, units, or formats.Feel free to add more validation checks which you might feel necessary for the dataset’s integrity\n",
    "- **Step 4**: Export the cleaned dataset as a .csv file: prefer UTF-8 encoding.\n",
    "- **Step 5**: Convert the pre-processed dataset into an SQL file. \n",
    "- **Step 6**: Manually generate a table by utilizing the database information provided in the \"Database Info\" tab.\n",
    "\n",
    "## Module 2: Run SQL queries"
   ]
  },
  {
   "cell_type": "markdown",
   "id": "f7f42f52",
   "metadata": {},
   "source": [
    "### Import Python Libraries"
   ]
  },
  {
   "cell_type": "code",
   "execution_count": 1,
   "id": "6bf90d8e",
   "metadata": {},
   "outputs": [],
   "source": [
    "import numpy as np\n",
    "import pandas as pd\n",
    "import seaborn as sns"
   ]
  },
  {
   "cell_type": "markdown",
   "id": "e7c58978",
   "metadata": {},
   "source": [
    "### Loading Dataset\n"
   ]
  },
  {
   "cell_type": "code",
   "execution_count": 2,
   "id": "22443fa8",
   "metadata": {},
   "outputs": [],
   "source": [
    "emp = pd.read_csv(\"F:\\Hicounselor\\HR analytics\\dataset\\employees_final_dataset clean.csv\")"
   ]
  },
  {
   "cell_type": "markdown",
   "id": "c0e3ea70",
   "metadata": {},
   "source": [
    "### Basic information about dataset"
   ]
  },
  {
   "cell_type": "code",
   "execution_count": 3,
   "id": "468a5bda",
   "metadata": {},
   "outputs": [
    {
     "data": {
      "text/html": [
       "<div>\n",
       "<style scoped>\n",
       "    .dataframe tbody tr th:only-of-type {\n",
       "        vertical-align: middle;\n",
       "    }\n",
       "\n",
       "    .dataframe tbody tr th {\n",
       "        vertical-align: top;\n",
       "    }\n",
       "\n",
       "    .dataframe thead th {\n",
       "        text-align: right;\n",
       "    }\n",
       "</style>\n",
       "<table border=\"1\" class=\"dataframe\">\n",
       "  <thead>\n",
       "    <tr style=\"text-align: right;\">\n",
       "      <th></th>\n",
       "      <th>employee_id</th>\n",
       "      <th>department</th>\n",
       "      <th>region</th>\n",
       "      <th>education</th>\n",
       "      <th>gender</th>\n",
       "      <th>recruitment_channel</th>\n",
       "      <th>no_of_trainings</th>\n",
       "      <th>age</th>\n",
       "      <th>previous_year_rating</th>\n",
       "      <th>length_of_service</th>\n",
       "      <th>KPIs_met_more_than_80</th>\n",
       "      <th>awards_won</th>\n",
       "      <th>avg_training_score</th>\n",
       "    </tr>\n",
       "  </thead>\n",
       "  <tbody>\n",
       "    <tr>\n",
       "      <th>0</th>\n",
       "      <td>8724</td>\n",
       "      <td>Technology</td>\n",
       "      <td>region_26</td>\n",
       "      <td>Bachelors</td>\n",
       "      <td>m</td>\n",
       "      <td>sourcing</td>\n",
       "      <td>1</td>\n",
       "      <td>24</td>\n",
       "      <td>NaN</td>\n",
       "      <td>1</td>\n",
       "      <td>1</td>\n",
       "      <td>0</td>\n",
       "      <td>77</td>\n",
       "    </tr>\n",
       "    <tr>\n",
       "      <th>1</th>\n",
       "      <td>74430</td>\n",
       "      <td>HR</td>\n",
       "      <td>region_4</td>\n",
       "      <td>Bachelors</td>\n",
       "      <td>f</td>\n",
       "      <td>other</td>\n",
       "      <td>1</td>\n",
       "      <td>31</td>\n",
       "      <td>3.0</td>\n",
       "      <td>5</td>\n",
       "      <td>0</td>\n",
       "      <td>0</td>\n",
       "      <td>51</td>\n",
       "    </tr>\n",
       "    <tr>\n",
       "      <th>2</th>\n",
       "      <td>72255</td>\n",
       "      <td>Sales &amp; Marketing</td>\n",
       "      <td>region_13</td>\n",
       "      <td>Bachelors</td>\n",
       "      <td>m</td>\n",
       "      <td>other</td>\n",
       "      <td>1</td>\n",
       "      <td>31</td>\n",
       "      <td>1.0</td>\n",
       "      <td>4</td>\n",
       "      <td>0</td>\n",
       "      <td>0</td>\n",
       "      <td>47</td>\n",
       "    </tr>\n",
       "    <tr>\n",
       "      <th>3</th>\n",
       "      <td>38562</td>\n",
       "      <td>Procurement</td>\n",
       "      <td>region_2</td>\n",
       "      <td>Bachelors</td>\n",
       "      <td>f</td>\n",
       "      <td>other</td>\n",
       "      <td>3</td>\n",
       "      <td>31</td>\n",
       "      <td>2.0</td>\n",
       "      <td>9</td>\n",
       "      <td>0</td>\n",
       "      <td>0</td>\n",
       "      <td>65</td>\n",
       "    </tr>\n",
       "    <tr>\n",
       "      <th>4</th>\n",
       "      <td>64486</td>\n",
       "      <td>Finance</td>\n",
       "      <td>region_29</td>\n",
       "      <td>Bachelors</td>\n",
       "      <td>m</td>\n",
       "      <td>sourcing</td>\n",
       "      <td>1</td>\n",
       "      <td>30</td>\n",
       "      <td>4.0</td>\n",
       "      <td>7</td>\n",
       "      <td>0</td>\n",
       "      <td>0</td>\n",
       "      <td>61</td>\n",
       "    </tr>\n",
       "  </tbody>\n",
       "</table>\n",
       "</div>"
      ],
      "text/plain": [
       "   employee_id         department     region  education gender  \\\n",
       "0         8724         Technology  region_26  Bachelors      m   \n",
       "1        74430                 HR   region_4  Bachelors      f   \n",
       "2        72255  Sales & Marketing  region_13  Bachelors      m   \n",
       "3        38562        Procurement   region_2  Bachelors      f   \n",
       "4        64486            Finance  region_29  Bachelors      m   \n",
       "\n",
       "  recruitment_channel  no_of_trainings  age  previous_year_rating  \\\n",
       "0            sourcing                1   24                   NaN   \n",
       "1               other                1   31                   3.0   \n",
       "2               other                1   31                   1.0   \n",
       "3               other                3   31                   2.0   \n",
       "4            sourcing                1   30                   4.0   \n",
       "\n",
       "   length_of_service  KPIs_met_more_than_80  awards_won  avg_training_score  \n",
       "0                  1                      1           0                  77  \n",
       "1                  5                      0           0                  51  \n",
       "2                  4                      0           0                  47  \n",
       "3                  9                      0           0                  65  \n",
       "4                  7                      0           0                  61  "
      ]
     },
     "execution_count": 3,
     "metadata": {},
     "output_type": "execute_result"
    }
   ],
   "source": [
    "emp.head() # top 5 rows"
   ]
  },
  {
   "cell_type": "code",
   "execution_count": 4,
   "id": "56269506",
   "metadata": {},
   "outputs": [
    {
     "data": {
      "text/html": [
       "<div>\n",
       "<style scoped>\n",
       "    .dataframe tbody tr th:only-of-type {\n",
       "        vertical-align: middle;\n",
       "    }\n",
       "\n",
       "    .dataframe tbody tr th {\n",
       "        vertical-align: top;\n",
       "    }\n",
       "\n",
       "    .dataframe thead th {\n",
       "        text-align: right;\n",
       "    }\n",
       "</style>\n",
       "<table border=\"1\" class=\"dataframe\">\n",
       "  <thead>\n",
       "    <tr style=\"text-align: right;\">\n",
       "      <th></th>\n",
       "      <th>employee_id</th>\n",
       "      <th>department</th>\n",
       "      <th>region</th>\n",
       "      <th>education</th>\n",
       "      <th>gender</th>\n",
       "      <th>recruitment_channel</th>\n",
       "      <th>no_of_trainings</th>\n",
       "      <th>age</th>\n",
       "      <th>previous_year_rating</th>\n",
       "      <th>length_of_service</th>\n",
       "      <th>KPIs_met_more_than_80</th>\n",
       "      <th>awards_won</th>\n",
       "      <th>avg_training_score</th>\n",
       "    </tr>\n",
       "  </thead>\n",
       "  <tbody>\n",
       "    <tr>\n",
       "      <th>17412</th>\n",
       "      <td>64573</td>\n",
       "      <td>Technology</td>\n",
       "      <td>region_7</td>\n",
       "      <td>Bachelors</td>\n",
       "      <td>f</td>\n",
       "      <td>referred</td>\n",
       "      <td>2</td>\n",
       "      <td>30</td>\n",
       "      <td>5.0</td>\n",
       "      <td>6</td>\n",
       "      <td>1</td>\n",
       "      <td>0</td>\n",
       "      <td>81</td>\n",
       "    </tr>\n",
       "    <tr>\n",
       "      <th>17413</th>\n",
       "      <td>49584</td>\n",
       "      <td>HR</td>\n",
       "      <td>region_7</td>\n",
       "      <td>Bachelors</td>\n",
       "      <td>m</td>\n",
       "      <td>other</td>\n",
       "      <td>1</td>\n",
       "      <td>33</td>\n",
       "      <td>1.0</td>\n",
       "      <td>9</td>\n",
       "      <td>0</td>\n",
       "      <td>0</td>\n",
       "      <td>51</td>\n",
       "    </tr>\n",
       "    <tr>\n",
       "      <th>17414</th>\n",
       "      <td>49584</td>\n",
       "      <td>HR</td>\n",
       "      <td>region_7</td>\n",
       "      <td>Bachelors</td>\n",
       "      <td>m</td>\n",
       "      <td>other</td>\n",
       "      <td>1</td>\n",
       "      <td>33</td>\n",
       "      <td>1.0</td>\n",
       "      <td>9</td>\n",
       "      <td>0</td>\n",
       "      <td>0</td>\n",
       "      <td>51</td>\n",
       "    </tr>\n",
       "    <tr>\n",
       "      <th>17415</th>\n",
       "      <td>49584</td>\n",
       "      <td>HR</td>\n",
       "      <td>region_7</td>\n",
       "      <td>Bachelors</td>\n",
       "      <td>m</td>\n",
       "      <td>other</td>\n",
       "      <td>1</td>\n",
       "      <td>33</td>\n",
       "      <td>1.0</td>\n",
       "      <td>9</td>\n",
       "      <td>0</td>\n",
       "      <td>0</td>\n",
       "      <td>51</td>\n",
       "    </tr>\n",
       "    <tr>\n",
       "      <th>17416</th>\n",
       "      <td>64573</td>\n",
       "      <td>HR</td>\n",
       "      <td>region_7</td>\n",
       "      <td>Bachelors</td>\n",
       "      <td>f</td>\n",
       "      <td>referred</td>\n",
       "      <td>1</td>\n",
       "      <td>35</td>\n",
       "      <td>5.0</td>\n",
       "      <td>4</td>\n",
       "      <td>1</td>\n",
       "      <td>0</td>\n",
       "      <td>81</td>\n",
       "    </tr>\n",
       "  </tbody>\n",
       "</table>\n",
       "</div>"
      ],
      "text/plain": [
       "       employee_id  department    region  education gender  \\\n",
       "17412        64573  Technology  region_7  Bachelors      f   \n",
       "17413        49584          HR  region_7  Bachelors      m   \n",
       "17414        49584          HR  region_7  Bachelors      m   \n",
       "17415        49584          HR  region_7  Bachelors      m   \n",
       "17416        64573          HR  region_7  Bachelors      f   \n",
       "\n",
       "      recruitment_channel  no_of_trainings  age  previous_year_rating  \\\n",
       "17412            referred                2   30                   5.0   \n",
       "17413               other                1   33                   1.0   \n",
       "17414               other                1   33                   1.0   \n",
       "17415               other                1   33                   1.0   \n",
       "17416            referred                1   35                   5.0   \n",
       "\n",
       "       length_of_service  KPIs_met_more_than_80  awards_won  \\\n",
       "17412                  6                      1           0   \n",
       "17413                  9                      0           0   \n",
       "17414                  9                      0           0   \n",
       "17415                  9                      0           0   \n",
       "17416                  4                      1           0   \n",
       "\n",
       "       avg_training_score  \n",
       "17412                  81  \n",
       "17413                  51  \n",
       "17414                  51  \n",
       "17415                  51  \n",
       "17416                  81  "
      ]
     },
     "execution_count": 4,
     "metadata": {},
     "output_type": "execute_result"
    }
   ],
   "source": [
    "emp.tail() # last 5 rows"
   ]
  },
  {
   "cell_type": "code",
   "execution_count": 5,
   "id": "e8e1de32",
   "metadata": {},
   "outputs": [
    {
     "data": {
      "text/plain": [
       "(17417, 13)"
      ]
     },
     "execution_count": 5,
     "metadata": {},
     "output_type": "execute_result"
    }
   ],
   "source": [
    "emp.shape"
   ]
  },
  {
   "cell_type": "markdown",
   "id": "38d0bf74",
   "metadata": {},
   "source": [
    "- There are 17417 rows and 13 columns in our dataset"
   ]
  },
  {
   "cell_type": "code",
   "execution_count": 6,
   "id": "0e0f0f7e",
   "metadata": {},
   "outputs": [
    {
     "name": "stdout",
     "output_type": "stream",
     "text": [
      "<class 'pandas.core.frame.DataFrame'>\n",
      "RangeIndex: 17417 entries, 0 to 17416\n",
      "Data columns (total 13 columns):\n",
      " #   Column                 Non-Null Count  Dtype  \n",
      "---  ------                 --------------  -----  \n",
      " 0   employee_id            17417 non-null  int64  \n",
      " 1   department             17417 non-null  object \n",
      " 2   region                 17417 non-null  object \n",
      " 3   education              16646 non-null  object \n",
      " 4   gender                 17417 non-null  object \n",
      " 5   recruitment_channel    17417 non-null  object \n",
      " 6   no_of_trainings        17417 non-null  int64  \n",
      " 7   age                    17417 non-null  int64  \n",
      " 8   previous_year_rating   16054 non-null  float64\n",
      " 9   length_of_service      17417 non-null  int64  \n",
      " 10  KPIs_met_more_than_80  17417 non-null  int64  \n",
      " 11  awards_won             17417 non-null  int64  \n",
      " 12  avg_training_score     17417 non-null  int64  \n",
      "dtypes: float64(1), int64(7), object(5)\n",
      "memory usage: 1.7+ MB\n"
     ]
    }
   ],
   "source": [
    "emp.info() #dataset information"
   ]
  },
  {
   "cell_type": "code",
   "execution_count": 7,
   "id": "cdb38701",
   "metadata": {},
   "outputs": [
    {
     "data": {
      "text/plain": [
       "Index(['employee_id', 'department', 'region', 'education', 'gender',\n",
       "       'recruitment_channel', 'no_of_trainings', 'age', 'previous_year_rating',\n",
       "       'length_of_service', 'KPIs_met_more_than_80', 'awards_won',\n",
       "       'avg_training_score'],\n",
       "      dtype='object')"
      ]
     },
     "execution_count": 7,
     "metadata": {},
     "output_type": "execute_result"
    }
   ],
   "source": [
    "emp.columns # Names of columns"
   ]
  },
  {
   "cell_type": "code",
   "execution_count": 8,
   "id": "54436ca1",
   "metadata": {},
   "outputs": [
    {
     "data": {
      "text/plain": [
       "employee_id              17414\n",
       "department                   9\n",
       "region                      34\n",
       "education                    3\n",
       "gender                       2\n",
       "recruitment_channel          3\n",
       "no_of_trainings              9\n",
       "age                         41\n",
       "previous_year_rating         5\n",
       "length_of_service           34\n",
       "KPIs_met_more_than_80        2\n",
       "awards_won                   2\n",
       "avg_training_score          61\n",
       "dtype: int64"
      ]
     },
     "execution_count": 8,
     "metadata": {},
     "output_type": "execute_result"
    }
   ],
   "source": [
    "emp.nunique() # unique values in columns"
   ]
  },
  {
   "cell_type": "code",
   "execution_count": 9,
   "id": "1c9e8404",
   "metadata": {},
   "outputs": [
    {
     "data": {
      "text/html": [
       "<div>\n",
       "<style scoped>\n",
       "    .dataframe tbody tr th:only-of-type {\n",
       "        vertical-align: middle;\n",
       "    }\n",
       "\n",
       "    .dataframe tbody tr th {\n",
       "        vertical-align: top;\n",
       "    }\n",
       "\n",
       "    .dataframe thead th {\n",
       "        text-align: right;\n",
       "    }\n",
       "</style>\n",
       "<table border=\"1\" class=\"dataframe\">\n",
       "  <thead>\n",
       "    <tr style=\"text-align: right;\">\n",
       "      <th></th>\n",
       "      <th>employee_id</th>\n",
       "      <th>no_of_trainings</th>\n",
       "      <th>age</th>\n",
       "      <th>previous_year_rating</th>\n",
       "      <th>length_of_service</th>\n",
       "      <th>KPIs_met_more_than_80</th>\n",
       "      <th>awards_won</th>\n",
       "      <th>avg_training_score</th>\n",
       "    </tr>\n",
       "  </thead>\n",
       "  <tbody>\n",
       "    <tr>\n",
       "      <th>count</th>\n",
       "      <td>17417.000000</td>\n",
       "      <td>17417.000000</td>\n",
       "      <td>17417.000000</td>\n",
       "      <td>16054.000000</td>\n",
       "      <td>17417.000000</td>\n",
       "      <td>17417.000000</td>\n",
       "      <td>17417.000000</td>\n",
       "      <td>17417.000000</td>\n",
       "    </tr>\n",
       "    <tr>\n",
       "      <th>mean</th>\n",
       "      <td>39083.491129</td>\n",
       "      <td>1.250732</td>\n",
       "      <td>34.807774</td>\n",
       "      <td>3.345459</td>\n",
       "      <td>5.801860</td>\n",
       "      <td>0.358845</td>\n",
       "      <td>0.023368</td>\n",
       "      <td>63.176322</td>\n",
       "    </tr>\n",
       "    <tr>\n",
       "      <th>std</th>\n",
       "      <td>22707.024087</td>\n",
       "      <td>0.595692</td>\n",
       "      <td>7.694046</td>\n",
       "      <td>1.265386</td>\n",
       "      <td>4.175533</td>\n",
       "      <td>0.479675</td>\n",
       "      <td>0.151074</td>\n",
       "      <td>13.418179</td>\n",
       "    </tr>\n",
       "    <tr>\n",
       "      <th>min</th>\n",
       "      <td>3.000000</td>\n",
       "      <td>1.000000</td>\n",
       "      <td>20.000000</td>\n",
       "      <td>1.000000</td>\n",
       "      <td>1.000000</td>\n",
       "      <td>0.000000</td>\n",
       "      <td>0.000000</td>\n",
       "      <td>39.000000</td>\n",
       "    </tr>\n",
       "    <tr>\n",
       "      <th>25%</th>\n",
       "      <td>19281.000000</td>\n",
       "      <td>1.000000</td>\n",
       "      <td>29.000000</td>\n",
       "      <td>3.000000</td>\n",
       "      <td>3.000000</td>\n",
       "      <td>0.000000</td>\n",
       "      <td>0.000000</td>\n",
       "      <td>51.000000</td>\n",
       "    </tr>\n",
       "    <tr>\n",
       "      <th>50%</th>\n",
       "      <td>39122.000000</td>\n",
       "      <td>1.000000</td>\n",
       "      <td>33.000000</td>\n",
       "      <td>3.000000</td>\n",
       "      <td>5.000000</td>\n",
       "      <td>0.000000</td>\n",
       "      <td>0.000000</td>\n",
       "      <td>60.000000</td>\n",
       "    </tr>\n",
       "    <tr>\n",
       "      <th>75%</th>\n",
       "      <td>58838.000000</td>\n",
       "      <td>1.000000</td>\n",
       "      <td>39.000000</td>\n",
       "      <td>4.000000</td>\n",
       "      <td>7.000000</td>\n",
       "      <td>1.000000</td>\n",
       "      <td>0.000000</td>\n",
       "      <td>75.000000</td>\n",
       "    </tr>\n",
       "    <tr>\n",
       "      <th>max</th>\n",
       "      <td>78295.000000</td>\n",
       "      <td>9.000000</td>\n",
       "      <td>60.000000</td>\n",
       "      <td>5.000000</td>\n",
       "      <td>34.000000</td>\n",
       "      <td>1.000000</td>\n",
       "      <td>1.000000</td>\n",
       "      <td>99.000000</td>\n",
       "    </tr>\n",
       "  </tbody>\n",
       "</table>\n",
       "</div>"
      ],
      "text/plain": [
       "        employee_id  no_of_trainings           age  previous_year_rating  \\\n",
       "count  17417.000000     17417.000000  17417.000000          16054.000000   \n",
       "mean   39083.491129         1.250732     34.807774              3.345459   \n",
       "std    22707.024087         0.595692      7.694046              1.265386   \n",
       "min        3.000000         1.000000     20.000000              1.000000   \n",
       "25%    19281.000000         1.000000     29.000000              3.000000   \n",
       "50%    39122.000000         1.000000     33.000000              3.000000   \n",
       "75%    58838.000000         1.000000     39.000000              4.000000   \n",
       "max    78295.000000         9.000000     60.000000              5.000000   \n",
       "\n",
       "       length_of_service  KPIs_met_more_than_80    awards_won  \\\n",
       "count       17417.000000           17417.000000  17417.000000   \n",
       "mean            5.801860               0.358845      0.023368   \n",
       "std             4.175533               0.479675      0.151074   \n",
       "min             1.000000               0.000000      0.000000   \n",
       "25%             3.000000               0.000000      0.000000   \n",
       "50%             5.000000               0.000000      0.000000   \n",
       "75%             7.000000               1.000000      0.000000   \n",
       "max            34.000000               1.000000      1.000000   \n",
       "\n",
       "       avg_training_score  \n",
       "count        17417.000000  \n",
       "mean            63.176322  \n",
       "std             13.418179  \n",
       "min             39.000000  \n",
       "25%             51.000000  \n",
       "50%             60.000000  \n",
       "75%             75.000000  \n",
       "max             99.000000  "
      ]
     },
     "execution_count": 9,
     "metadata": {},
     "output_type": "execute_result"
    }
   ],
   "source": [
    "emp.describe() # statistical information"
   ]
  },
  {
   "cell_type": "markdown",
   "id": "536abc7e",
   "metadata": {},
   "source": [
    "#### Step 1: Removing duplicate rows."
   ]
  },
  {
   "cell_type": "code",
   "execution_count": 10,
   "id": "8cf31e72",
   "metadata": {},
   "outputs": [
    {
     "data": {
      "text/plain": [
       "2"
      ]
     },
     "execution_count": 10,
     "metadata": {},
     "output_type": "execute_result"
    }
   ],
   "source": [
    "emp.duplicated().sum()"
   ]
  },
  {
   "cell_type": "markdown",
   "id": "f0da006d",
   "metadata": {},
   "source": [
    "- 2 rows are duplicated"
   ]
  },
  {
   "cell_type": "code",
   "execution_count": 11,
   "id": "58759223",
   "metadata": {},
   "outputs": [
    {
     "data": {
      "text/html": [
       "<div>\n",
       "<style scoped>\n",
       "    .dataframe tbody tr th:only-of-type {\n",
       "        vertical-align: middle;\n",
       "    }\n",
       "\n",
       "    .dataframe tbody tr th {\n",
       "        vertical-align: top;\n",
       "    }\n",
       "\n",
       "    .dataframe thead th {\n",
       "        text-align: right;\n",
       "    }\n",
       "</style>\n",
       "<table border=\"1\" class=\"dataframe\">\n",
       "  <thead>\n",
       "    <tr style=\"text-align: right;\">\n",
       "      <th></th>\n",
       "      <th>employee_id</th>\n",
       "      <th>department</th>\n",
       "      <th>region</th>\n",
       "      <th>education</th>\n",
       "      <th>gender</th>\n",
       "      <th>recruitment_channel</th>\n",
       "      <th>no_of_trainings</th>\n",
       "      <th>age</th>\n",
       "      <th>previous_year_rating</th>\n",
       "      <th>length_of_service</th>\n",
       "      <th>KPIs_met_more_than_80</th>\n",
       "      <th>awards_won</th>\n",
       "      <th>avg_training_score</th>\n",
       "    </tr>\n",
       "  </thead>\n",
       "  <tbody>\n",
       "    <tr>\n",
       "      <th>17414</th>\n",
       "      <td>49584</td>\n",
       "      <td>HR</td>\n",
       "      <td>region_7</td>\n",
       "      <td>Bachelors</td>\n",
       "      <td>m</td>\n",
       "      <td>other</td>\n",
       "      <td>1</td>\n",
       "      <td>33</td>\n",
       "      <td>1.0</td>\n",
       "      <td>9</td>\n",
       "      <td>0</td>\n",
       "      <td>0</td>\n",
       "      <td>51</td>\n",
       "    </tr>\n",
       "    <tr>\n",
       "      <th>17415</th>\n",
       "      <td>49584</td>\n",
       "      <td>HR</td>\n",
       "      <td>region_7</td>\n",
       "      <td>Bachelors</td>\n",
       "      <td>m</td>\n",
       "      <td>other</td>\n",
       "      <td>1</td>\n",
       "      <td>33</td>\n",
       "      <td>1.0</td>\n",
       "      <td>9</td>\n",
       "      <td>0</td>\n",
       "      <td>0</td>\n",
       "      <td>51</td>\n",
       "    </tr>\n",
       "  </tbody>\n",
       "</table>\n",
       "</div>"
      ],
      "text/plain": [
       "       employee_id department    region  education gender recruitment_channel  \\\n",
       "17414        49584         HR  region_7  Bachelors      m               other   \n",
       "17415        49584         HR  region_7  Bachelors      m               other   \n",
       "\n",
       "       no_of_trainings  age  previous_year_rating  length_of_service  \\\n",
       "17414                1   33                   1.0                  9   \n",
       "17415                1   33                   1.0                  9   \n",
       "\n",
       "       KPIs_met_more_than_80  awards_won  avg_training_score  \n",
       "17414                      0           0                  51  \n",
       "17415                      0           0                  51  "
      ]
     },
     "execution_count": 11,
     "metadata": {},
     "output_type": "execute_result"
    }
   ],
   "source": [
    "#to show duplicated rows\n",
    "emp[emp.duplicated()]"
   ]
  },
  {
   "cell_type": "markdown",
   "id": "ff52e697",
   "metadata": {},
   "source": [
    "### Remove this duplicated rows"
   ]
  },
  {
   "cell_type": "code",
   "execution_count": 12,
   "id": "29920593",
   "metadata": {},
   "outputs": [],
   "source": [
    "emp.drop_duplicates(inplace=True)"
   ]
  },
  {
   "cell_type": "code",
   "execution_count": 13,
   "id": "c83cb513",
   "metadata": {},
   "outputs": [
    {
     "data": {
      "text/plain": [
       "0"
      ]
     },
     "execution_count": 13,
     "metadata": {},
     "output_type": "execute_result"
    }
   ],
   "source": [
    "#checking duplicated rows again\n",
    "emp.duplicated().sum()"
   ]
  },
  {
   "cell_type": "markdown",
   "id": "c85405a4",
   "metadata": {},
   "source": [
    "- Now removed duplicates"
   ]
  },
  {
   "cell_type": "markdown",
   "id": "ff8369ad",
   "metadata": {},
   "source": [
    "### Step 2: Removing rows for which numeric columns are having irrelevant data type values\n"
   ]
  },
  {
   "cell_type": "code",
   "execution_count": 14,
   "id": "d9a083ca",
   "metadata": {},
   "outputs": [
    {
     "data": {
      "text/plain": [
       "employee_id                int64\n",
       "department                object\n",
       "region                    object\n",
       "education                 object\n",
       "gender                    object\n",
       "recruitment_channel       object\n",
       "no_of_trainings            int64\n",
       "age                        int64\n",
       "previous_year_rating     float64\n",
       "length_of_service          int64\n",
       "KPIs_met_more_than_80      int64\n",
       "awards_won                 int64\n",
       "avg_training_score         int64\n",
       "dtype: object"
      ]
     },
     "execution_count": 14,
     "metadata": {},
     "output_type": "execute_result"
    }
   ],
   "source": [
    "emp.dtypes"
   ]
  },
  {
   "cell_type": "markdown",
   "id": "4b7c5fb6",
   "metadata": {},
   "source": [
    "- All datatype is correct,here is object ,float ans integer for numerical columns.NO need to change."
   ]
  },
  {
   "cell_type": "markdown",
   "id": "74e3ee52",
   "metadata": {},
   "source": [
    "### Step 3: Remove irrelevant values from each column if any. Validation all values for a column, Check for any inconsistencies or discrepancies in data types, units, or formats.Feel free to add more validation checks which you might feel necessary for the dataset’s integrity\n",
    "- checking null values"
   ]
  },
  {
   "cell_type": "code",
   "execution_count": 15,
   "id": "4abfced1",
   "metadata": {},
   "outputs": [
    {
     "data": {
      "text/plain": [
       "employee_id                 0\n",
       "department                  0\n",
       "region                      0\n",
       "education                 771\n",
       "gender                      0\n",
       "recruitment_channel         0\n",
       "no_of_trainings             0\n",
       "age                         0\n",
       "previous_year_rating     1363\n",
       "length_of_service           0\n",
       "KPIs_met_more_than_80       0\n",
       "awards_won                  0\n",
       "avg_training_score          0\n",
       "dtype: int64"
      ]
     },
     "execution_count": 15,
     "metadata": {},
     "output_type": "execute_result"
    }
   ],
   "source": [
    "m = emp.isnull().sum()\n",
    "m"
   ]
  },
  {
   "cell_type": "code",
   "execution_count": 16,
   "id": "1d488c42",
   "metadata": {},
   "outputs": [
    {
     "data": {
      "text/plain": [
       "employee_id              0.000000\n",
       "department               0.000000\n",
       "region                   0.000000\n",
       "education                4.427218\n",
       "gender                   0.000000\n",
       "recruitment_channel      0.000000\n",
       "no_of_trainings          0.000000\n",
       "age                      0.000000\n",
       "previous_year_rating     7.826586\n",
       "length_of_service        0.000000\n",
       "KPIs_met_more_than_80    0.000000\n",
       "awards_won               0.000000\n",
       "avg_training_score       0.000000\n",
       "dtype: float64"
      ]
     },
     "execution_count": 16,
     "metadata": {},
     "output_type": "execute_result"
    }
   ],
   "source": [
    "#blank values in %\n",
    "m1 = m/len(emp)*100\n",
    "m1"
   ]
  },
  {
   "cell_type": "code",
   "execution_count": 17,
   "id": "b6d3d6a2",
   "metadata": {},
   "outputs": [
    {
     "data": {
      "text/html": [
       "<div>\n",
       "<style scoped>\n",
       "    .dataframe tbody tr th:only-of-type {\n",
       "        vertical-align: middle;\n",
       "    }\n",
       "\n",
       "    .dataframe tbody tr th {\n",
       "        vertical-align: top;\n",
       "    }\n",
       "\n",
       "    .dataframe thead th {\n",
       "        text-align: right;\n",
       "    }\n",
       "</style>\n",
       "<table border=\"1\" class=\"dataframe\">\n",
       "  <thead>\n",
       "    <tr style=\"text-align: right;\">\n",
       "      <th></th>\n",
       "      <th>Missing</th>\n",
       "      <th>Mssing%</th>\n",
       "    </tr>\n",
       "  </thead>\n",
       "  <tbody>\n",
       "    <tr>\n",
       "      <th>employee_id</th>\n",
       "      <td>0</td>\n",
       "      <td>0.000000</td>\n",
       "    </tr>\n",
       "    <tr>\n",
       "      <th>department</th>\n",
       "      <td>0</td>\n",
       "      <td>0.000000</td>\n",
       "    </tr>\n",
       "    <tr>\n",
       "      <th>region</th>\n",
       "      <td>0</td>\n",
       "      <td>0.000000</td>\n",
       "    </tr>\n",
       "    <tr>\n",
       "      <th>education</th>\n",
       "      <td>771</td>\n",
       "      <td>4.427218</td>\n",
       "    </tr>\n",
       "    <tr>\n",
       "      <th>gender</th>\n",
       "      <td>0</td>\n",
       "      <td>0.000000</td>\n",
       "    </tr>\n",
       "    <tr>\n",
       "      <th>recruitment_channel</th>\n",
       "      <td>0</td>\n",
       "      <td>0.000000</td>\n",
       "    </tr>\n",
       "    <tr>\n",
       "      <th>no_of_trainings</th>\n",
       "      <td>0</td>\n",
       "      <td>0.000000</td>\n",
       "    </tr>\n",
       "    <tr>\n",
       "      <th>age</th>\n",
       "      <td>0</td>\n",
       "      <td>0.000000</td>\n",
       "    </tr>\n",
       "    <tr>\n",
       "      <th>previous_year_rating</th>\n",
       "      <td>1363</td>\n",
       "      <td>7.826586</td>\n",
       "    </tr>\n",
       "    <tr>\n",
       "      <th>length_of_service</th>\n",
       "      <td>0</td>\n",
       "      <td>0.000000</td>\n",
       "    </tr>\n",
       "    <tr>\n",
       "      <th>KPIs_met_more_than_80</th>\n",
       "      <td>0</td>\n",
       "      <td>0.000000</td>\n",
       "    </tr>\n",
       "    <tr>\n",
       "      <th>awards_won</th>\n",
       "      <td>0</td>\n",
       "      <td>0.000000</td>\n",
       "    </tr>\n",
       "    <tr>\n",
       "      <th>avg_training_score</th>\n",
       "      <td>0</td>\n",
       "      <td>0.000000</td>\n",
       "    </tr>\n",
       "  </tbody>\n",
       "</table>\n",
       "</div>"
      ],
      "text/plain": [
       "                       Missing   Mssing%\n",
       "employee_id                  0  0.000000\n",
       "department                   0  0.000000\n",
       "region                       0  0.000000\n",
       "education                  771  4.427218\n",
       "gender                       0  0.000000\n",
       "recruitment_channel          0  0.000000\n",
       "no_of_trainings              0  0.000000\n",
       "age                          0  0.000000\n",
       "previous_year_rating      1363  7.826586\n",
       "length_of_service            0  0.000000\n",
       "KPIs_met_more_than_80        0  0.000000\n",
       "awards_won                   0  0.000000\n",
       "avg_training_score           0  0.000000"
      ]
     },
     "execution_count": 17,
     "metadata": {},
     "output_type": "execute_result"
    }
   ],
   "source": [
    "## Missing values with %\n",
    "m2 = pd.concat([m,m1],axis=1,keys=['Missing','Mssing%'])\n",
    "m2"
   ]
  },
  {
   "cell_type": "markdown",
   "id": "c016cc65",
   "metadata": {},
   "source": [
    "- Its clearly shows only two columns having missing values\n",
    "- education having 4.43%\n",
    "- previous_year_rating having 7.83 %\n"
   ]
  },
  {
   "cell_type": "markdown",
   "id": "26681235",
   "metadata": {},
   "source": [
    "### Missing values in Heatmap"
   ]
  },
  {
   "cell_type": "code",
   "execution_count": 18,
   "id": "9fbfd35e",
   "metadata": {},
   "outputs": [
    {
     "data": {
      "text/plain": [
       "<AxesSubplot:>"
      ]
     },
     "execution_count": 18,
     "metadata": {},
     "output_type": "execute_result"
    },
    {
     "data": {
      "image/png": "[encoded data removed]",
      "text/plain": [
       "<Figure size 432x288 with 2 Axes>"
      ]
     },
     "metadata": {
      "needs_background": "light"
     },
     "output_type": "display_data"
    }
   ],
   "source": [
    "sns.heatmap(emp.isnull())"
   ]
  },
  {
   "cell_type": "markdown",
   "id": "1e95da55",
   "metadata": {},
   "source": [
    "#### We are replacing null values in education as \"Ileterate\" and  in previous_year_rating with zero.\n",
    "- using fillna()"
   ]
  },
  {
   "cell_type": "code",
   "execution_count": 19,
   "id": "4096f987",
   "metadata": {},
   "outputs": [
    {
     "data": {
      "text/html": [
       "<div>\n",
       "<style scoped>\n",
       "    .dataframe tbody tr th:only-of-type {\n",
       "        vertical-align: middle;\n",
       "    }\n",
       "\n",
       "    .dataframe tbody tr th {\n",
       "        vertical-align: top;\n",
       "    }\n",
       "\n",
       "    .dataframe thead th {\n",
       "        text-align: right;\n",
       "    }\n",
       "</style>\n",
       "<table border=\"1\" class=\"dataframe\">\n",
       "  <thead>\n",
       "    <tr style=\"text-align: right;\">\n",
       "      <th></th>\n",
       "      <th>employee_id</th>\n",
       "      <th>department</th>\n",
       "      <th>region</th>\n",
       "      <th>education</th>\n",
       "      <th>gender</th>\n",
       "      <th>recruitment_channel</th>\n",
       "      <th>no_of_trainings</th>\n",
       "      <th>age</th>\n",
       "      <th>previous_year_rating</th>\n",
       "      <th>length_of_service</th>\n",
       "      <th>KPIs_met_more_than_80</th>\n",
       "      <th>awards_won</th>\n",
       "      <th>avg_training_score</th>\n",
       "    </tr>\n",
       "  </thead>\n",
       "  <tbody>\n",
       "    <tr>\n",
       "      <th>0</th>\n",
       "      <td>8724</td>\n",
       "      <td>Technology</td>\n",
       "      <td>region_26</td>\n",
       "      <td>Bachelors</td>\n",
       "      <td>m</td>\n",
       "      <td>sourcing</td>\n",
       "      <td>1</td>\n",
       "      <td>24</td>\n",
       "      <td>NaN</td>\n",
       "      <td>1</td>\n",
       "      <td>1</td>\n",
       "      <td>0</td>\n",
       "      <td>77</td>\n",
       "    </tr>\n",
       "    <tr>\n",
       "      <th>1</th>\n",
       "      <td>74430</td>\n",
       "      <td>HR</td>\n",
       "      <td>region_4</td>\n",
       "      <td>Bachelors</td>\n",
       "      <td>f</td>\n",
       "      <td>other</td>\n",
       "      <td>1</td>\n",
       "      <td>31</td>\n",
       "      <td>3.0</td>\n",
       "      <td>5</td>\n",
       "      <td>0</td>\n",
       "      <td>0</td>\n",
       "      <td>51</td>\n",
       "    </tr>\n",
       "  </tbody>\n",
       "</table>\n",
       "</div>"
      ],
      "text/plain": [
       "   employee_id  department     region  education gender recruitment_channel  \\\n",
       "0         8724  Technology  region_26  Bachelors      m            sourcing   \n",
       "1        74430          HR   region_4  Bachelors      f               other   \n",
       "\n",
       "   no_of_trainings  age  previous_year_rating  length_of_service  \\\n",
       "0                1   24                   NaN                  1   \n",
       "1                1   31                   3.0                  5   \n",
       "\n",
       "   KPIs_met_more_than_80  awards_won  avg_training_score  \n",
       "0                      1           0                  77  \n",
       "1                      0           0                  51  "
      ]
     },
     "execution_count": 19,
     "metadata": {},
     "output_type": "execute_result"
    }
   ],
   "source": [
    "emp.head(2)"
   ]
  },
  {
   "cell_type": "code",
   "execution_count": 20,
   "id": "1e502a06",
   "metadata": {},
   "outputs": [],
   "source": [
    "emp.fillna({'education':'Ileterate','previous_year_rating':'0'},inplace=True)"
   ]
  },
  {
   "cell_type": "code",
   "execution_count": 21,
   "id": "e3d1e208",
   "metadata": {},
   "outputs": [
    {
     "data": {
      "text/plain": [
       "employee_id              0\n",
       "department               0\n",
       "region                   0\n",
       "education                0\n",
       "gender                   0\n",
       "recruitment_channel      0\n",
       "no_of_trainings          0\n",
       "age                      0\n",
       "previous_year_rating     0\n",
       "length_of_service        0\n",
       "KPIs_met_more_than_80    0\n",
       "awards_won               0\n",
       "avg_training_score       0\n",
       "dtype: int64"
      ]
     },
     "execution_count": 21,
     "metadata": {},
     "output_type": "execute_result"
    }
   ],
   "source": [
    "# again chaecking null values\n",
    "m = emp.isnull().sum()\n",
    "m"
   ]
  },
  {
   "cell_type": "markdown",
   "id": "001ed734",
   "metadata": {},
   "source": [
    "### Step 4: Export the cleaned dataset as a .csv file: prefer UTF-8 encoding.\n"
   ]
  },
  {
   "cell_type": "code",
   "execution_count": 23,
   "id": "eb38aa26",
   "metadata": {},
   "outputs": [],
   "source": [
    "emp.to_csv(\"cleaned_employee_final_dataset.csv\", encoding='utf-8', index=False)\n"
   ]
  },
  {
   "cell_type": "code",
   "execution_count": null,
   "id": "946fcfbb",
   "metadata": {},
   "outputs": [],
   "source": []
  }
 ],
 "metadata": {
  "kernelspec": {
   "display_name": "Python 3 (ipykernel)",
   "language": "python",
   "name": "python3"
  },
  "language_info": {
   "codemirror_mode": {
    "name": "ipython",
    "version": 3
   },
   "file_extension": ".py",
   "mimetype": "text/x-python",
   "name": "python",
   "nbconvert_exporter": "python",
   "pygments_lexer": "ipython3",
   "version": "3.9.12"
  }
 },
 "nbformat": 4,
 "nbformat_minor": 5
}
